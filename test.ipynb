{
 "cells": [
  {
   "cell_type": "code",
   "execution_count": 10,
   "metadata": {},
   "outputs": [],
   "source": [
    "import paramiko\n",
    "import threading\n",
    "\n",
    "class ServerThread(threading.Thread):\n",
    "    def __init__(self, hostname, username, key_filename, command):\n",
    "        threading.Thread.__init__(self)\n",
    "        self.hostname = hostname\n",
    "        self.username = username\n",
    "        self.key_filename = key_filename\n",
    "        self.command = command\n",
    "\n",
    "    def run(self):\n",
    "        client = paramiko.SSHClient()\n",
    "        client.set_missing_host_key_policy(paramiko.AutoAddPolicy())\n",
    "        try:\n",
    "            client.connect(hostname=self.hostname, username=self.username, key_filename=self.key_filename)\n",
    "            stdin, stdout, stderr = client.exec_command(self.command)\n",
    "            stdout.channel.set_combine_stderr(True)\n",
    "            output = stdout.readlines()\n",
    "            print(f\"Output from {self.hostname}:\\n{''.join(output)}\")\n",
    "        except Exception as e:\n",
    "            print(f\"Connection Failed for {self.hostname}: {e}\")\n",
    "        finally:\n",
    "            client.close()"
   ]
  },
  {
   "cell_type": "code",
   "execution_count": 13,
   "metadata": {},
   "outputs": [
    {
     "name": "stdout",
     "output_type": "stream",
     "text": [
      "Output from 192.168.10.91:\n",
      "docker.io/asdfry/dali-example@sha256:849046a4158e06d13a17b940c53b73574f3db7787a2397774b2d2beb4860aa02\n",
      "\n",
      "Output from 192.168.10.101:\n",
      "docker.io/asdfry/dali-example@sha256:849046a4158e06d13a17b940c53b73574f3db7787a2397774b2d2beb4860aa02\n",
      "\n",
      "Output from 192.168.10.111:\n",
      "docker.io/asdfry/dali-example@sha256:849046a4158e06d13a17b940c53b73574f3db7787a2397774b2d2beb4860aa02\n",
      "\n"
     ]
    }
   ],
   "source": [
    "# List of servers\n",
    "servers = [\n",
    "    {\"hostname\": \"192.168.10.91\", \"username\": \"root\", \"key_filename\": \"/home/jsh/.ssh/ten-jsh.pem\"},\n",
    "    {\"hostname\": \"192.168.10.101\", \"username\": \"root\", \"key_filename\": \"/home/jsh/.ssh/ten-jsh.pem\"},\n",
    "    {\"hostname\": \"192.168.10.111\", \"username\": \"root\", \"key_filename\": \"/home/jsh/.ssh/ten-jsh.pem\"},\n",
    "]\n",
    "\n",
    "# Command to run\n",
    "command = \"ctr -n k8s.io image rm docker.io/asdfry/dali-example:imagenet\"  # Example command\n",
    "\n",
    "threads = []\n",
    "\n",
    "# Create and start threads for each server\n",
    "for server in servers:\n",
    "    thread = ServerThread(server[\"hostname\"], server[\"username\"], server[\"key_filename\"], command)\n",
    "    thread.start()\n",
    "    threads.append(thread)\n",
    "\n",
    "# Wait for all threads to complete\n",
    "for t in threads:\n",
    "    t.join()"
   ]
  }
 ],
 "metadata": {
  "kernelspec": {
   "display_name": "Python 3",
   "language": "python",
   "name": "python3"
  },
  "language_info": {
   "codemirror_mode": {
    "name": "ipython",
    "version": 3
   },
   "file_extension": ".py",
   "mimetype": "text/x-python",
   "name": "python",
   "nbconvert_exporter": "python",
   "pygments_lexer": "ipython3",
   "version": "3.10.12"
  }
 },
 "nbformat": 4,
 "nbformat_minor": 2
}
